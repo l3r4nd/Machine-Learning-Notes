{
 "cells": [
  {
   "cell_type": "code",
   "execution_count": 1,
   "metadata": {},
   "outputs": [],
   "source": [
    "import matplotlib.pyplot as plt\n",
    "import numpy as np\n",
    "#plt.style.use('dark_background')\n",
    "from sklearn.datasets import load_iris\n",
    "from numpy.linalg import norm"
   ]
  },
  {
   "cell_type": "code",
   "execution_count": 2,
   "metadata": {},
   "outputs": [],
   "source": [
    "iris_X, iris_y = load_iris(True)\n",
    "data = np.c_[iris_X, iris_y]\n",
    "np.random.shuffle(data)\n",
    "iris_X, iris_y = data[:,:4], np.squeeze(data[:,4:])\n",
    "X_train, X_test = iris_X[:100], iris_X[100:]\n",
    "y_train, y_test = iris_y[:100], iris_y[100:]"
   ]
  },
  {
   "cell_type": "code",
   "execution_count": 3,
   "metadata": {},
   "outputs": [
    {
     "data": {
      "image/png": "[encoded data removed]",
      "text/plain": [
       "<Figure size 432x288 with 1 Axes>"
      ]
     },
     "metadata": {},
     "output_type": "display_data"
    }
   ],
   "source": [
    "X = np.array([\n",
    "    [1,1],\n",
    "    [2,2],\n",
    "    [6,6],\n",
    "    [5,6],\n",
    "    [1,3],\n",
    "    [2,4],\n",
    "    [6,5],\n",
    "    [5,7],\n",
    "    [2.5,3],\n",
    "    [5.5, 7]\n",
    "])\n",
    "colors = ['r', 'g']\n",
    "for index, (x_cord, y_cord) in enumerate(X):\n",
    "    if x_cord > 4:\n",
    "        plt.plot(x_cord, y_cord, marker = 'o', color = 'r')\n",
    "    elif x_cord < 4:\n",
    "        plt.plot(x_cord, y_cord, marker = '*', color = 'g')"
   ]
  },
  {
   "cell_type": "code",
   "execution_count": 4,
   "metadata": {},
   "outputs": [],
   "source": [
    "class K_Means:\n",
    "    def __init__(self, k = 2, max_iter = 300, tol = 0.0001):\n",
    "        self.k = k\n",
    "        self.max_iter = max_iter\n",
    "        self.tol = tol\n",
    "        \n",
    "    def fit(self, X):\n",
    "        self.centroids = {i:X[i] for i in range(self.k)}\n",
    "        #print(self.centroids)\n",
    "        \n",
    "        for i in range(self.max_iter):\n",
    "            self.classifications = {i:[] for i in range(self.k)}\n",
    "            \n",
    "            for row in X:\n",
    "                distances = np.sqrt([np.sum((row - self.centroids[centroid])**2) for centroid in self.centroids])\n",
    "                self.classifications[np.argmin(distances)].append(row)\n",
    "                \n",
    "            prev_centroids = self.centroids\n",
    "            \n",
    "            for classification in self.classifications:\n",
    "                self.centroids[classification] = np.mean(self.classifications[classification], axis = 0)\n",
    "            \n",
    "            optimize = True\n",
    "            \n",
    "            for c in self.centroids:\n",
    "                prev_centroid = prev_centroids[c]\n",
    "                current_centroid = self.centroids[c]\n",
    "                error = np.sum((current_centroid - prev_centroid)/ prev_centroid* 100) \n",
    "                if error > self.tol:\n",
    "                    optimize = False\n",
    "        \n",
    "                if optimize:\n",
    "                    break\n",
    "        #print(self.centroids)        \n",
    "        \n",
    "    def predict(self, X):\n",
    "        distances = np.sqrt([np.sum((row - self.centroids[centroid])**2) for centroid in self.centroids])\n",
    "        return np.argmin(distances)"
   ]
  },
  {
   "cell_type": "code",
   "execution_count": 5,
   "metadata": {},
   "outputs": [
    {
     "data": {
      "image/png": "[encoded data removed]",
      "text/plain": [
       "<Figure size 432x288 with 1 Axes>"
      ]
     },
     "metadata": {},
     "output_type": "display_data"
    }
   ],
   "source": [
    "km = K_Means(2)\n",
    "km.fit(X)\n",
    "centers = list(km.centroids.values())\n",
    "plt.scatter(X[:,0], X[:,1])\n",
    "for center in centers:\n",
    "    plt.scatter(center[0], center[1], s = 120, marker = 'o', color = 'g')"
   ]
  },
  {
   "cell_type": "code",
   "execution_count": 6,
   "metadata": {},
   "outputs": [
    {
     "data": {
      "image/png": "[encoded data removed]",
      "text/plain": [
       "<Figure size 432x288 with 1 Axes>"
      ]
     },
     "metadata": {},
     "output_type": "display_data"
    }
   ],
   "source": [
    "x_mean = np.mean(X_train, axis = 0)\n",
    "x_std = np.std(X_train, axis = 0)\n",
    "X_std = (X_train - x_mean)/x_std\n",
    "\n",
    "plt.scatter(X_std[:, 2], X_std[:, 3])\n",
    "km = K_Means(k = 3)\n",
    "km.fit(X_std[:,2:5])\n",
    "centers = list(km.centroids.values())\n",
    "for center in centers:\n",
    "    plt.scatter(center[0], center[1], s = 120, marker = '^')"
   ]
  },
  {
   "cell_type": "code",
   "execution_count": 7,
   "metadata": {},
   "outputs": [
    {
     "data": {
      "text/plain": [
       "array([[ 1.0483946 ,  1.12554448],\n",
       "       [ 0.18228079,  0.34716883],\n",
       "       [-1.17231283, -1.13162454]])"
      ]
     },
     "execution_count": 7,
     "metadata": {},
     "output_type": "execute_result"
    }
   ],
   "source": [
    "np.sort(centers)"
   ]
  },
  {
   "cell_type": "code",
   "execution_count": 8,
   "metadata": {},
   "outputs": [
    {
     "data": {
      "text/plain": [
       "array([[ 0.18228079,  0.34716883],\n",
       "       [-1.17231283, -1.13162454],\n",
       "       [ 1.0483946 ,  1.12554448]])"
      ]
     },
     "execution_count": 8,
     "metadata": {},
     "output_type": "execute_result"
    }
   ],
   "source": [
    "from sklearn.cluster import KMeans\n",
    "kmeans = KMeans(3)\n",
    "kmeans.fit(X_std[:,2:5])\n",
    "np.sort(kmeans.cluster_centers_)"
   ]
  },
  {
   "cell_type": "code",
   "execution_count": 9,
   "metadata": {},
   "outputs": [
    {
     "data": {
      "image/png": "[encoded data removed]",
      "text/plain": [
       "<Figure size 432x288 with 1 Axes>"
      ]
     },
     "metadata": {},
     "output_type": "display_data"
    }
   ],
   "source": [
    "plt.scatter(X_std[:, 2], X_std[:, 3])\n",
    "for center in kmeans.cluster_centers_:\n",
    "    plt.scatter(center[0], center[1], s = 120, marker = '^')"
   ]
  }
 ],
 "metadata": {
  "kernelspec": {
   "display_name": "Python 3",
   "language": "python",
   "name": "python3"
  },
  "language_info": {
   "codemirror_mode": {
    "name": "ipython",
    "version": 3
   },
   "file_extension": ".py",
   "mimetype": "text/x-python",
   "name": "python",
   "nbconvert_exporter": "python",
   "pygments_lexer": "ipython3",
   "version": "3.6.5"
  }
 },
 "nbformat": 4,
 "nbformat_minor": 2
}
